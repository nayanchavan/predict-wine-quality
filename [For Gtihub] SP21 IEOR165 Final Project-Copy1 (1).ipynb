{
 "cells": [
  {
   "cell_type": "markdown",
   "metadata": {},
   "source": [
    "**Nayan Chavan**"
   ]
  },
  {
   "cell_type": "markdown",
   "metadata": {},
   "source": [
    "In this notebook, I will use the  following three models: (1) Ordinary Least Squares, (2) Ridge Regression, and (3) Lasso Regression to find the coefficients of each of the linear models to relate the wine quality to the other features in the wine dataset. The source code for all my findings can be found and cited throughout this notebook. Each model's section within the notebook contains explanations to accompany code cells. "
   ]
  },
  {
   "cell_type": "markdown",
   "metadata": {},
   "source": [
    "## Wine Data Setup"
   ]
  },
  {
   "cell_type": "markdown",
   "metadata": {},
   "source": [
    "In the following cells, I read the wine quality csv and change it into a Pandas dataframe. This will make the data much more readable and workable for later usage. Also, in the immediate cell, I imported the necessary packages required throughout this notebook for the previously mentioned models. "
   ]
  },
  {
   "cell_type": "code",
   "execution_count": 2,
   "metadata": {},
   "outputs": [
    {
     "name": "stdout",
     "output_type": "stream",
     "text": [
      "Requirement already satisfied: plotly in /opt/conda/lib/python3.8/site-packages (4.14.3)\r\n",
      "Requirement already satisfied: retrying>=1.3.3 in /opt/conda/lib/python3.8/site-packages (from plotly) (1.3.3)\r\n",
      "Requirement already satisfied: six in /opt/conda/lib/python3.8/site-packages (from plotly) (1.15.0)\r\n"
     ]
    }
   ],
   "source": [
    "import numpy as np\n",
    "import pandas as pd\n",
    "import statsmodels.api as sm\n",
    "import statsmodels.formula.api as smf\n",
    "from sklearn.linear_model import LinearRegression\n",
    "from sklearn.metrics import mean_squared_error\n",
    "from sklearn.model_selection import train_test_split\n",
    "from sklearn.model_selection import cross_val_score\n",
    "from sklearn import linear_model as lm\n",
    "! pip install plotly\n",
    "import plotly.graph_objects as go"
   ]
  },
  {
   "cell_type": "code",
   "execution_count": 3,
   "metadata": {},
   "outputs": [
    {
     "data": {
      "text/html": [
       "<div>\n",
       "<style scoped>\n",
       "    .dataframe tbody tr th:only-of-type {\n",
       "        vertical-align: middle;\n",
       "    }\n",
       "\n",
       "    .dataframe tbody tr th {\n",
       "        vertical-align: top;\n",
       "    }\n",
       "\n",
       "    .dataframe thead th {\n",
       "        text-align: right;\n",
       "    }\n",
       "</style>\n",
       "<table border=\"1\" class=\"dataframe\">\n",
       "  <thead>\n",
       "    <tr style=\"text-align: right;\">\n",
       "      <th></th>\n",
       "      <th>fixed acidity</th>\n",
       "      <th>volatile acidity</th>\n",
       "      <th>citric acid</th>\n",
       "      <th>residual sugar</th>\n",
       "      <th>chlorides</th>\n",
       "      <th>free sulfur dioxide</th>\n",
       "      <th>total sulfur dioxide</th>\n",
       "      <th>density</th>\n",
       "      <th>pH</th>\n",
       "      <th>sulphates</th>\n",
       "      <th>alcohol</th>\n",
       "      <th>quality</th>\n",
       "    </tr>\n",
       "  </thead>\n",
       "  <tbody>\n",
       "    <tr>\n",
       "      <th>0</th>\n",
       "      <td>7.4</td>\n",
       "      <td>0.70</td>\n",
       "      <td>0.00</td>\n",
       "      <td>1.9</td>\n",
       "      <td>0.076</td>\n",
       "      <td>11.0</td>\n",
       "      <td>34.0</td>\n",
       "      <td>0.9978</td>\n",
       "      <td>3.51</td>\n",
       "      <td>0.56</td>\n",
       "      <td>9.4</td>\n",
       "      <td>5</td>\n",
       "    </tr>\n",
       "    <tr>\n",
       "      <th>1</th>\n",
       "      <td>7.8</td>\n",
       "      <td>0.88</td>\n",
       "      <td>0.00</td>\n",
       "      <td>2.6</td>\n",
       "      <td>0.098</td>\n",
       "      <td>25.0</td>\n",
       "      <td>67.0</td>\n",
       "      <td>0.9968</td>\n",
       "      <td>3.20</td>\n",
       "      <td>0.68</td>\n",
       "      <td>9.8</td>\n",
       "      <td>5</td>\n",
       "    </tr>\n",
       "    <tr>\n",
       "      <th>2</th>\n",
       "      <td>7.8</td>\n",
       "      <td>0.76</td>\n",
       "      <td>0.04</td>\n",
       "      <td>2.3</td>\n",
       "      <td>0.092</td>\n",
       "      <td>15.0</td>\n",
       "      <td>54.0</td>\n",
       "      <td>0.9970</td>\n",
       "      <td>3.26</td>\n",
       "      <td>0.65</td>\n",
       "      <td>9.8</td>\n",
       "      <td>5</td>\n",
       "    </tr>\n",
       "    <tr>\n",
       "      <th>3</th>\n",
       "      <td>11.2</td>\n",
       "      <td>0.28</td>\n",
       "      <td>0.56</td>\n",
       "      <td>1.9</td>\n",
       "      <td>0.075</td>\n",
       "      <td>17.0</td>\n",
       "      <td>60.0</td>\n",
       "      <td>0.9980</td>\n",
       "      <td>3.16</td>\n",
       "      <td>0.58</td>\n",
       "      <td>9.8</td>\n",
       "      <td>6</td>\n",
       "    </tr>\n",
       "    <tr>\n",
       "      <th>4</th>\n",
       "      <td>7.4</td>\n",
       "      <td>0.70</td>\n",
       "      <td>0.00</td>\n",
       "      <td>1.9</td>\n",
       "      <td>0.076</td>\n",
       "      <td>11.0</td>\n",
       "      <td>34.0</td>\n",
       "      <td>0.9978</td>\n",
       "      <td>3.51</td>\n",
       "      <td>0.56</td>\n",
       "      <td>9.4</td>\n",
       "      <td>5</td>\n",
       "    </tr>\n",
       "  </tbody>\n",
       "</table>\n",
       "</div>"
      ],
      "text/plain": [
       "   fixed acidity  volatile acidity  citric acid  residual sugar  chlorides  \\\n",
       "0            7.4              0.70         0.00             1.9      0.076   \n",
       "1            7.8              0.88         0.00             2.6      0.098   \n",
       "2            7.8              0.76         0.04             2.3      0.092   \n",
       "3           11.2              0.28         0.56             1.9      0.075   \n",
       "4            7.4              0.70         0.00             1.9      0.076   \n",
       "\n",
       "   free sulfur dioxide  total sulfur dioxide  density    pH  sulphates  \\\n",
       "0                 11.0                  34.0   0.9978  3.51       0.56   \n",
       "1                 25.0                  67.0   0.9968  3.20       0.68   \n",
       "2                 15.0                  54.0   0.9970  3.26       0.65   \n",
       "3                 17.0                  60.0   0.9980  3.16       0.58   \n",
       "4                 11.0                  34.0   0.9978  3.51       0.56   \n",
       "\n",
       "   alcohol  quality  \n",
       "0      9.4        5  \n",
       "1      9.8        5  \n",
       "2      9.8        5  \n",
       "3      9.8        6  \n",
       "4      9.4        5  "
      ]
     },
     "execution_count": 3,
     "metadata": {},
     "output_type": "execute_result"
    }
   ],
   "source": [
    "winedata = pd.read_csv('winequality-red.csv')\n",
    "winedata = pd.read_csv('winequality-red.csv', sep=';')\n",
    "winedata.head()"
   ]
  },
  {
   "cell_type": "markdown",
   "metadata": {},
   "source": [
    "# (1) Ordinary Least Squares"
   ]
  },
  {
   "cell_type": "markdown",
   "metadata": {},
   "source": [
    "In the following section of code, I created a X and Y training set as well as a X and Y testing set. Using the sklearn package's LinearRegression function, I fitted the OLS model to the X and Y training sets. The train-test split is 80-20 from the original wine quality dataset. \n",
    "\n",
    "Then, I adapted the rmse and cross_validate_rmse methods from the Spring 2020 Data 100 Resources. These two methods will allow us to calculate the root mean squared error and the cross-validation RMSE, respectively, for use later. "
   ]
  },
  {
   "cell_type": "code",
   "execution_count": 4,
   "metadata": {},
   "outputs": [],
   "source": [
    "X = winedata.drop(columns=['quality'])\n",
    "Y = winedata['quality']\n",
    "\n",
    "X_train, X_test, Y_train, Y_test = train_test_split(X, Y, test_size = .2, random_state=0)"
   ]
  },
  {
   "cell_type": "code",
   "execution_count": 5,
   "metadata": {},
   "outputs": [],
   "source": [
    "ols = lm.LinearRegression(fit_intercept=True)\n",
    "ols = ols.fit(X_train,Y_train)\n",
    "ols_y_hat = ols.predict(X_train)"
   ]
  },
  {
   "cell_type": "markdown",
   "metadata": {},
   "source": [
    "### *Code adapted from [SP20 DATA 100 Resources](https://ds100.org/sp20/resources/assets/lectures/lec18/TrainTestSplitAndCrossValidation.html)*"
   ]
  },
  {
   "cell_type": "code",
   "execution_count": 6,
   "metadata": {},
   "outputs": [],
   "source": [
    "from sklearn.model_selection import KFold \n",
    "from sklearn.base import clone \n",
    "\n",
    "def rmse(y, y_hat):\n",
    "    return np.sqrt(np.mean((y - y_hat)**2))\n",
    "\n",
    "def cross_validate_rmse(model, X, y):\n",
    "    model = clone(model)\n",
    "    five_fold = KFold(n_splits=5)\n",
    "    rmse_values = []\n",
    "    for tr_ind, va_ind in five_fold.split(X):\n",
    "        model.fit(X.iloc[tr_ind,:], y.iloc[tr_ind])\n",
    "        rmse_values.append(rmse(y.iloc[va_ind], model.predict(X.iloc[va_ind,:])))\n",
    "    return np.mean(rmse_values)"
   ]
  },
  {
   "cell_type": "markdown",
   "metadata": {},
   "source": [
    "## OLS Regression Coefficients"
   ]
  },
  {
   "cell_type": "markdown",
   "metadata": {},
   "source": [
    "The OLS Regression coefficient values are found in the table below mapped with their corresponding feature. Given that quality is the dependent variable and what we are trying to predict with the data from the other 11 features, we can find which features may increase the quality value and which features may decrease the quality.\n",
    "\n",
    "Positive coefficients indicate that as the value of this independent variable increases, the dependent variable will also tend to increase. Negative coefficients indicate that as the value of this independent variable increases, the dependent variable will tend to decrease.\n",
    "\n",
    "Knowing this, we see that fixed acidity, residual sugar, free sulfur dioxide, sulphates, and alcohol have a positive relationship with wine quality due to their positive coefficients. Whereas, volatile acidity, citric acidity, chlorides, total sulfur dioxide, density, and pH have a negative relationship due to their negative coefficients. \n",
    "\n",
    "Although these coefficients have positive and negative signages, some have little to no effect on wine quality. "
   ]
  },
  {
   "cell_type": "markdown",
   "metadata": {},
   "source": [
    "To find the coefficients, I was able to get all the coefficients with .coef_ from the LinearRegression function. Then, I made a Pandas dataframe and joined the appropriate feature names. The intercept value is also included in the table below. "
   ]
  },
  {
   "cell_type": "code",
   "execution_count": 7,
   "metadata": {},
   "outputs": [
    {
     "data": {
      "text/html": [
       "<div>\n",
       "<style scoped>\n",
       "    .dataframe tbody tr th:only-of-type {\n",
       "        vertical-align: middle;\n",
       "    }\n",
       "\n",
       "    .dataframe tbody tr th {\n",
       "        vertical-align: top;\n",
       "    }\n",
       "\n",
       "    .dataframe thead th {\n",
       "        text-align: right;\n",
       "    }\n",
       "</style>\n",
       "<table border=\"1\" class=\"dataframe\">\n",
       "  <thead>\n",
       "    <tr style=\"text-align: right;\">\n",
       "      <th></th>\n",
       "      <th>Feature</th>\n",
       "      <th>Coefficient</th>\n",
       "    </tr>\n",
       "  </thead>\n",
       "  <tbody>\n",
       "    <tr>\n",
       "      <th>0</th>\n",
       "      <td>fixed acidity</td>\n",
       "      <td>0.041284</td>\n",
       "    </tr>\n",
       "    <tr>\n",
       "      <th>1</th>\n",
       "      <td>volatile acidity</td>\n",
       "      <td>-1.149528</td>\n",
       "    </tr>\n",
       "    <tr>\n",
       "      <th>2</th>\n",
       "      <td>citric acid</td>\n",
       "      <td>-0.177927</td>\n",
       "    </tr>\n",
       "    <tr>\n",
       "      <th>3</th>\n",
       "      <td>residual sugar</td>\n",
       "      <td>0.027870</td>\n",
       "    </tr>\n",
       "    <tr>\n",
       "      <th>4</th>\n",
       "      <td>chlorides</td>\n",
       "      <td>-1.873407</td>\n",
       "    </tr>\n",
       "    <tr>\n",
       "      <th>5</th>\n",
       "      <td>free sulfur dioxide</td>\n",
       "      <td>0.002684</td>\n",
       "    </tr>\n",
       "    <tr>\n",
       "      <th>6</th>\n",
       "      <td>total sulfur dioxide</td>\n",
       "      <td>-0.002777</td>\n",
       "    </tr>\n",
       "    <tr>\n",
       "      <th>7</th>\n",
       "      <td>density</td>\n",
       "      <td>-31.516666</td>\n",
       "    </tr>\n",
       "    <tr>\n",
       "      <th>8</th>\n",
       "      <td>pH</td>\n",
       "      <td>-0.254486</td>\n",
       "    </tr>\n",
       "    <tr>\n",
       "      <th>9</th>\n",
       "      <td>sulphates</td>\n",
       "      <td>0.924040</td>\n",
       "    </tr>\n",
       "    <tr>\n",
       "      <th>10</th>\n",
       "      <td>alcohol</td>\n",
       "      <td>0.267797</td>\n",
       "    </tr>\n",
       "    <tr>\n",
       "      <th>11</th>\n",
       "      <td>Intercept Constant</td>\n",
       "      <td>34.998711</td>\n",
       "    </tr>\n",
       "  </tbody>\n",
       "</table>\n",
       "</div>"
      ],
      "text/plain": [
       "                 Feature  Coefficient\n",
       "0          fixed acidity     0.041284\n",
       "1       volatile acidity    -1.149528\n",
       "2            citric acid    -0.177927\n",
       "3         residual sugar     0.027870\n",
       "4              chlorides    -1.873407\n",
       "5    free sulfur dioxide     0.002684\n",
       "6   total sulfur dioxide    -0.002777\n",
       "7                density   -31.516666\n",
       "8                     pH    -0.254486\n",
       "9              sulphates     0.924040\n",
       "10               alcohol     0.267797\n",
       "11    Intercept Constant    34.998711"
      ]
     },
     "execution_count": 7,
     "metadata": {},
     "output_type": "execute_result"
    }
   ],
   "source": [
    "ols_coef = ols.coef_\n",
    "Y_columns_df = pd.DataFrame(X.columns.values).rename(columns = {0: 'Feature'})\n",
    "ols_coef_df = pd.DataFrame(ols.coef_).rename(columns = {0: 'Coefficient'})\n",
    "ols_result = pd.concat([Y_columns_df, ols_coef_df], axis=1) \n",
    "ols_result\n",
    "ols_intercept_row = {'Feature': 'Intercept Constant', 'Coefficient': ols.intercept_}\n",
    "ols_result = ols_result.append(ols_intercept_row, ignore_index=True)\n",
    "ols_result"
   ]
  },
  {
   "cell_type": "markdown",
   "metadata": {},
   "source": [
    "## OLS Model Intercept"
   ]
  },
  {
   "cell_type": "code",
   "execution_count": 8,
   "metadata": {},
   "outputs": [
    {
     "name": "stdout",
     "output_type": "stream",
     "text": [
      "OLS Model Intercept: 34.99871062872092\n"
     ]
    }
   ],
   "source": [
    "print(\"OLS Model Intercept:\", ols.intercept_)"
   ]
  },
  {
   "cell_type": "markdown",
   "metadata": {},
   "source": [
    "## Cross Validation RSME of the OLS Model"
   ]
  },
  {
   "cell_type": "markdown",
   "metadata": {},
   "source": [
    "Utilizing the Data100, cited earlier, when cross-validating our results we find that the cross-validation RMSE value is **.6633**."
   ]
  },
  {
   "cell_type": "code",
   "execution_count": 9,
   "metadata": {},
   "outputs": [
    {
     "name": "stdout",
     "output_type": "stream",
     "text": [
      "Cross-Validation Root Mean Squared Error for OLS: 0.6632971683255627\n"
     ]
    }
   ],
   "source": [
    "cross_validate_rmse(ols, X_train, Y_train)\n",
    "\n",
    "print(\"Cross-Validation Root Mean Squared Error for OLS:\", cross_validate_rmse(ols, X_train, Y_train))"
   ]
  },
  {
   "cell_type": "markdown",
   "metadata": {},
   "source": [
    "## Training and Test Accuracy"
   ]
  },
  {
   "cell_type": "markdown",
   "metadata": {},
   "source": [
    "In the following cell, I found the OLS Training and Testing accuracies. We find that the OLS Testing Accuracy tends to be less than the OLS Training Accuracy. This is correct since the testing accuracy should never be higher than the training accuracy because our model was optimized on the test set."
   ]
  },
  {
   "cell_type": "code",
   "execution_count": 10,
   "metadata": {},
   "outputs": [
    {
     "name": "stdout",
     "output_type": "stream",
     "text": [
      "OLS Training Accuracy: 0.4258083784387742\n",
      "OLS Testing Accuracy: 0.38447119782012595\n"
     ]
    }
   ],
   "source": [
    "ols_training_acc = mean_squared_error(Y_train, ols.predict(X_train)) \n",
    "ols_test_acc = mean_squared_error(Y_test, ols.predict(X_test))\n",
    "\n",
    "print(\"OLS Training Accuracy:\", ols_training_acc)\n",
    "print(\"OLS Testing Accuracy:\", ols_test_acc)"
   ]
  },
  {
   "cell_type": "markdown",
   "metadata": {},
   "source": [
    "## OLS Equation - *may vary due to randomness*"
   ]
  },
  {
   "cell_type": "markdown",
   "metadata": {},
   "source": [
    "quality = (.024991)fixed acidity + (-1.083590)volatile acidity + (-0.182564)citric acid + (0.016331)residual sugar + (-1.874225)chlorides + (0.004361)free sulfur dioxide + (-0.003265)total sulfur dioxide + (-17.881164)density + (-0.413653)pH + (0.916334)sulphates + (0.276198)alcohol + 34.9987"
   ]
  },
  {
   "cell_type": "markdown",
   "metadata": {},
   "source": [
    "# (2) Ridge Regression"
   ]
  },
  {
   "cell_type": "markdown",
   "metadata": {},
   "source": [
    "To create the Ridge Regression model, I used the sklearn package's RidgeCV function. This function performs a Ridge Regression with given alphas.\n",
    "\n",
    "The alpha values are used were a large range of values over 10 ** np.linspace(10,-2,100) * 0.5. This was so that the model could be tuned with those parameters before actually creating the Ridge Regression model with the RidgeCV() function. The store_cv_values attribute is set to True so that I could chart the stored cross-validation values against the tuning parameters. "
   ]
  },
  {
   "cell_type": "code",
   "execution_count": 11,
   "metadata": {},
   "outputs": [],
   "source": [
    "from sklearn.linear_model import RidgeCV\n",
    "from sklearn.metrics import mean_squared_error\n",
    "import matplotlib.pyplot as plt"
   ]
  },
  {
   "cell_type": "code",
   "execution_count": 12,
   "metadata": {},
   "outputs": [],
   "source": [
    "X = winedata.drop(columns=['quality'])\n",
    "Y = winedata['quality']\n",
    "\n",
    "X_train, X_test, Y_train, Y_test = train_test_split(X, Y, test_size = .2, random_state=0)"
   ]
  },
  {
   "cell_type": "code",
   "execution_count": 13,
   "metadata": {},
   "outputs": [],
   "source": [
    "alphas = 10**np.linspace(10,-2,100)*0.5\n",
    "ridge_regression_cv = RidgeCV(alphas=alphas, store_cv_values=True)\n",
    "ridge_regression = ridge_regression_cv.fit(X_train, Y_train)"
   ]
  },
  {
   "cell_type": "markdown",
   "metadata": {},
   "source": [
    "## Ridge Regression Coefficients"
   ]
  },
  {
   "cell_type": "markdown",
   "metadata": {},
   "source": [
    "Following the same logic as finding the coefficients for the OLS model, the coefficients and intercetp for the Ridge Regression model can be found below mapped to their corresponding features. "
   ]
  },
  {
   "cell_type": "code",
   "execution_count": 14,
   "metadata": {},
   "outputs": [
    {
     "data": {
      "text/html": [
       "<div>\n",
       "<style scoped>\n",
       "    .dataframe tbody tr th:only-of-type {\n",
       "        vertical-align: middle;\n",
       "    }\n",
       "\n",
       "    .dataframe tbody tr th {\n",
       "        vertical-align: top;\n",
       "    }\n",
       "\n",
       "    .dataframe thead th {\n",
       "        text-align: right;\n",
       "    }\n",
       "</style>\n",
       "<table border=\"1\" class=\"dataframe\">\n",
       "  <thead>\n",
       "    <tr style=\"text-align: right;\">\n",
       "      <th></th>\n",
       "      <th>Feature</th>\n",
       "      <th>Coefficient</th>\n",
       "    </tr>\n",
       "  </thead>\n",
       "  <tbody>\n",
       "    <tr>\n",
       "      <th>0</th>\n",
       "      <td>fixed acidity</td>\n",
       "      <td>0.014025</td>\n",
       "    </tr>\n",
       "    <tr>\n",
       "      <th>1</th>\n",
       "      <td>volatile acidity</td>\n",
       "      <td>-1.179261</td>\n",
       "    </tr>\n",
       "    <tr>\n",
       "      <th>2</th>\n",
       "      <td>citric acid</td>\n",
       "      <td>-0.188598</td>\n",
       "    </tr>\n",
       "    <tr>\n",
       "      <th>3</th>\n",
       "      <td>residual sugar</td>\n",
       "      <td>0.014371</td>\n",
       "    </tr>\n",
       "    <tr>\n",
       "      <th>4</th>\n",
       "      <td>chlorides</td>\n",
       "      <td>-1.720735</td>\n",
       "    </tr>\n",
       "    <tr>\n",
       "      <th>5</th>\n",
       "      <td>free sulfur dioxide</td>\n",
       "      <td>0.002952</td>\n",
       "    </tr>\n",
       "    <tr>\n",
       "      <th>6</th>\n",
       "      <td>total sulfur dioxide</td>\n",
       "      <td>-0.002832</td>\n",
       "    </tr>\n",
       "    <tr>\n",
       "      <th>7</th>\n",
       "      <td>density</td>\n",
       "      <td>-0.096986</td>\n",
       "    </tr>\n",
       "    <tr>\n",
       "      <th>8</th>\n",
       "      <td>pH</td>\n",
       "      <td>-0.390222</td>\n",
       "    </tr>\n",
       "    <tr>\n",
       "      <th>9</th>\n",
       "      <td>sulphates</td>\n",
       "      <td>0.854233</td>\n",
       "    </tr>\n",
       "    <tr>\n",
       "      <th>10</th>\n",
       "      <td>alcohol</td>\n",
       "      <td>0.298783</td>\n",
       "    </tr>\n",
       "    <tr>\n",
       "      <th>11</th>\n",
       "      <td>Intercept Constant</td>\n",
       "      <td>4.118858</td>\n",
       "    </tr>\n",
       "  </tbody>\n",
       "</table>\n",
       "</div>"
      ],
      "text/plain": [
       "                 Feature  Coefficient\n",
       "0          fixed acidity     0.014025\n",
       "1       volatile acidity    -1.179261\n",
       "2            citric acid    -0.188598\n",
       "3         residual sugar     0.014371\n",
       "4              chlorides    -1.720735\n",
       "5    free sulfur dioxide     0.002952\n",
       "6   total sulfur dioxide    -0.002832\n",
       "7                density    -0.096986\n",
       "8                     pH    -0.390222\n",
       "9              sulphates     0.854233\n",
       "10               alcohol     0.298783\n",
       "11    Intercept Constant     4.118858"
      ]
     },
     "execution_count": 14,
     "metadata": {},
     "output_type": "execute_result"
    }
   ],
   "source": [
    "rr_coef = ridge_regression.coef_\n",
    "Y_columns_df = pd.DataFrame(X.columns.values).rename(columns = {0: 'Feature'})\n",
    "rr_coef_df = pd.DataFrame(ridge_regression.coef_).rename(columns = {0: 'Coefficient'})\n",
    "rr_result = pd.concat([Y_columns_df, rr_coef_df], axis=1) \n",
    "rr_result\n",
    "rr_intercept_row = {'Feature': 'Intercept Constant', 'Coefficient': ridge_regression.intercept_}\n",
    "rr_result = rr_result.append(rr_intercept_row, ignore_index=True)\n",
    "rr_result"
   ]
  },
  {
   "cell_type": "markdown",
   "metadata": {},
   "source": [
    "## Ridge Regression Intercept"
   ]
  },
  {
   "cell_type": "code",
   "execution_count": 15,
   "metadata": {},
   "outputs": [
    {
     "name": "stdout",
     "output_type": "stream",
     "text": [
      "Ridge Regression Model Intercept: 4.118857932272788\n"
     ]
    }
   ],
   "source": [
    "print(\"Ridge Regression Model Intercept:\", ridge_regression.intercept_)"
   ]
  },
  {
   "cell_type": "markdown",
   "metadata": {},
   "source": [
    "## Alpha Value and Cross-Validation MSE of the Ridge Regression Model"
   ]
  },
  {
   "cell_type": "markdown",
   "metadata": {},
   "source": [
    "The alpha value, which is the tuning parameter for this particular model, is calculated to be **.2489**. This was found using the .alpha_ function of the RidgeCV() method. \n",
    "\n",
    "Since this particular Ridge Regression model uses leave-one-out cross validation, I found the cross_validation Mean Squared Error for the model. The MSE is **.5590**. "
   ]
  },
  {
   "cell_type": "code",
   "execution_count": 16,
   "metadata": {},
   "outputs": [
    {
     "name": "stdout",
     "output_type": "stream",
     "text": [
      "Ridge Regression Alpha Value: 0.24885117821660568\n",
      "\n",
      "Cross-Validation Mean Squared Error for Ridge Regression: 0.5590436268056257\n"
     ]
    }
   ],
   "source": [
    "print(\"Ridge Regression Alpha Value:\", ridge_regression.alpha_)\n",
    "print(\"\\nCross-Validation Mean Squared Error for Ridge Regression:\", np.mean(ridge_regression.cv_values_))\n"
   ]
  },
  {
   "cell_type": "markdown",
   "metadata": {},
   "source": [
    "## Plot of Tuning Parameters versus Cross-Validation MSE for Ridge Regression"
   ]
  },
  {
   "cell_type": "code",
   "execution_count": 17,
   "metadata": {},
   "outputs": [
    {
     "data": {
      "image/png": "[encoded data removed]",
      "text/plain": [
       "<Figure size 864x432 with 1 Axes>"
      ]
     },
     "metadata": {
      "needs_background": "light"
     },
     "output_type": "display_data"
    }
   ],
   "source": [
    "plt.figure(figsize=(12,6))\n",
    "rr_cv = ridge_regression.cv_values_\n",
    "rr_plot = plt.gca()\n",
    "rr_plot.plot(alphas, rr_cv.mean(axis=0))\n",
    "rr_plot.set_xscale('log')\n",
    "plt.grid(True, which='both')\n",
    "plt.title(\"Tuning Paramaters vs. Cross-Validation MSE\\nfor Ridge Regression\", fontsize = 16)\n",
    "plt.xlabel('Alpha Values - Tuning Parameters', fontsize = 12)\n",
    "plt.ylabel('Cross-Validation MSE', fontsize = 12);"
   ]
  },
  {
   "cell_type": "code",
   "execution_count": 18,
   "metadata": {},
   "outputs": [
    {
     "name": "stdout",
     "output_type": "stream",
     "text": [
      "Training Ridge Regression Mean Squared Error: 0.4264447822657277\n",
      "\n",
      "Testing Ridge Regression Mean Squared Error: 0.38258282757909606\n"
     ]
    }
   ],
   "source": [
    "print(\"Training Ridge Regression Mean Squared Error:\", mean_squared_error(y_true=Y_train, y_pred=ridge_regression.predict(X_train)))\n",
    "\n",
    "print(\"\\nTesting Ridge Regression Mean Squared Error:\", mean_squared_error(y_true=Y_test, y_pred=ridge_regression.predict(X_test)))"
   ]
  },
  {
   "cell_type": "markdown",
   "metadata": {},
   "source": [
    "# (3) Lasso Regression"
   ]
  },
  {
   "cell_type": "markdown",
   "metadata": {},
   "source": [
    "To create the Lasso Regression model, I used the sklearn package's LassoLarsCV() function. This particular type of Lasso Regression model cross-validates the regression by utilizing the least-angle-regression method. Due to the LARS algorithm, a range of alphas was not needed since it obtains the alphas needed on its own."
   ]
  },
  {
   "cell_type": "code",
   "execution_count": 19,
   "metadata": {},
   "outputs": [],
   "source": [
    "from sklearn.linear_model import Lasso, LassoCV, LassoLarsCV\n",
    "from sklearn.model_selection import GridSearchCV"
   ]
  },
  {
   "cell_type": "code",
   "execution_count": 20,
   "metadata": {},
   "outputs": [],
   "source": [
    "X = winedata.drop(columns=['quality'])\n",
    "Y = winedata['quality']"
   ]
  },
  {
   "cell_type": "code",
   "execution_count": 21,
   "metadata": {},
   "outputs": [],
   "source": [
    "\n",
    "lasso_regression_cv = LassoLarsCV()\n",
    "lasso_regression = lasso_regression_cv.fit(X_train, Y_train)"
   ]
  },
  {
   "cell_type": "markdown",
   "metadata": {},
   "source": [
    "## Lasso Regression Coefficients"
   ]
  },
  {
   "cell_type": "markdown",
   "metadata": {},
   "source": [
    "The coefficients and intercept values for the Lasso Regression are provided below. The methodology to finding these values is the same as the OLS and Ridge Regression approaches. "
   ]
  },
  {
   "cell_type": "code",
   "execution_count": 22,
   "metadata": {},
   "outputs": [
    {
     "data": {
      "text/html": [
       "<div>\n",
       "<style scoped>\n",
       "    .dataframe tbody tr th:only-of-type {\n",
       "        vertical-align: middle;\n",
       "    }\n",
       "\n",
       "    .dataframe tbody tr th {\n",
       "        vertical-align: top;\n",
       "    }\n",
       "\n",
       "    .dataframe thead th {\n",
       "        text-align: right;\n",
       "    }\n",
       "</style>\n",
       "<table border=\"1\" class=\"dataframe\">\n",
       "  <thead>\n",
       "    <tr style=\"text-align: right;\">\n",
       "      <th></th>\n",
       "      <th>Feature</th>\n",
       "      <th>Coefficient</th>\n",
       "    </tr>\n",
       "  </thead>\n",
       "  <tbody>\n",
       "    <tr>\n",
       "      <th>0</th>\n",
       "      <td>fixed acidity</td>\n",
       "      <td>0.003840</td>\n",
       "    </tr>\n",
       "    <tr>\n",
       "      <th>1</th>\n",
       "      <td>volatile acidity</td>\n",
       "      <td>-1.107921</td>\n",
       "    </tr>\n",
       "    <tr>\n",
       "      <th>2</th>\n",
       "      <td>citric acid</td>\n",
       "      <td>0.000000</td>\n",
       "    </tr>\n",
       "    <tr>\n",
       "      <th>3</th>\n",
       "      <td>residual sugar</td>\n",
       "      <td>0.003266</td>\n",
       "    </tr>\n",
       "    <tr>\n",
       "      <th>4</th>\n",
       "      <td>chlorides</td>\n",
       "      <td>-1.515496</td>\n",
       "    </tr>\n",
       "    <tr>\n",
       "      <th>5</th>\n",
       "      <td>free sulfur dioxide</td>\n",
       "      <td>0.000000</td>\n",
       "    </tr>\n",
       "    <tr>\n",
       "      <th>6</th>\n",
       "      <td>total sulfur dioxide</td>\n",
       "      <td>-0.001834</td>\n",
       "    </tr>\n",
       "    <tr>\n",
       "      <th>7</th>\n",
       "      <td>density</td>\n",
       "      <td>0.000000</td>\n",
       "    </tr>\n",
       "    <tr>\n",
       "      <th>8</th>\n",
       "      <td>pH</td>\n",
       "      <td>-0.237571</td>\n",
       "    </tr>\n",
       "    <tr>\n",
       "      <th>9</th>\n",
       "      <td>sulphates</td>\n",
       "      <td>0.760626</td>\n",
       "    </tr>\n",
       "    <tr>\n",
       "      <th>10</th>\n",
       "      <td>alcohol</td>\n",
       "      <td>0.286109</td>\n",
       "    </tr>\n",
       "    <tr>\n",
       "      <th>11</th>\n",
       "      <td>Intercept Constant</td>\n",
       "      <td>3.717210</td>\n",
       "    </tr>\n",
       "  </tbody>\n",
       "</table>\n",
       "</div>"
      ],
      "text/plain": [
       "                 Feature  Coefficient\n",
       "0          fixed acidity     0.003840\n",
       "1       volatile acidity    -1.107921\n",
       "2            citric acid     0.000000\n",
       "3         residual sugar     0.003266\n",
       "4              chlorides    -1.515496\n",
       "5    free sulfur dioxide     0.000000\n",
       "6   total sulfur dioxide    -0.001834\n",
       "7                density     0.000000\n",
       "8                     pH    -0.237571\n",
       "9              sulphates     0.760626\n",
       "10               alcohol     0.286109\n",
       "11    Intercept Constant     3.717210"
      ]
     },
     "execution_count": 22,
     "metadata": {},
     "output_type": "execute_result"
    }
   ],
   "source": [
    "lr_coef = lasso_regression.coef_\n",
    "Y_columns_df = pd.DataFrame(X.columns.values).rename(columns = {0: 'Feature'})\n",
    "lr_coef_df = pd.DataFrame(lasso_regression.coef_).rename(columns = {0: 'Coefficient'})\n",
    "lr_result = pd.concat([Y_columns_df, lr_coef_df], axis=1) \n",
    "lr_result\n",
    "lr_intercept_row = {'Feature': 'Intercept Constant', 'Coefficient': lasso_regression.intercept_}\n",
    "lr_result = lr_result.append(lr_intercept_row, ignore_index=True)\n",
    "lr_result\n"
   ]
  },
  {
   "cell_type": "markdown",
   "metadata": {},
   "source": [
    "## Lasso Regression Intercept"
   ]
  },
  {
   "cell_type": "code",
   "execution_count": 23,
   "metadata": {},
   "outputs": [
    {
     "name": "stdout",
     "output_type": "stream",
     "text": [
      "Lasso Regression Model Intercept: 3.717209688879082\n"
     ]
    }
   ],
   "source": [
    "print(\"Lasso Regression Model Intercept:\", lasso_regression.intercept_)"
   ]
  },
  {
   "cell_type": "markdown",
   "metadata": {},
   "source": [
    "## Alpha Value and MSE of the Lasso Regression Model"
   ]
  },
  {
   "cell_type": "markdown",
   "metadata": {},
   "source": [
    "Using similar methodology from the Ridge Regression analysis, I was able to obtain the alpha value, MSE of the model, and MSE for the training and testing tests of the Lasso Regression. The source code for these calculations is below. One difference is that I used the built-in function of mse_path_.mean() to find the MSE. The MSE of the model is **.4822**. The alpha value is **.0004037**."
   ]
  },
  {
   "cell_type": "code",
   "execution_count": 24,
   "metadata": {},
   "outputs": [
    {
     "name": "stdout",
     "output_type": "stream",
     "text": [
      "Lasso Regression Alpha Value: 0.00040369988827837434\n",
      "\n",
      "Mean Squared Error for Lasso Regression: 0.4822443054521145\n",
      "\n",
      "Training Lasso Regression Mean Squared Error: 0.4290037889546166\n",
      "\n",
      "Testing Lasso Regression Mean Squared Error: 0.38604944927093043\n"
     ]
    }
   ],
   "source": [
    "print(\"Lasso Regression Alpha Value:\", lasso_regression.alpha_)\n",
    "print(\"\\nMean Squared Error for Lasso Regression:\", lasso_regression.mse_path_.mean())\n",
    "\n",
    "print(\"\\nTraining Lasso Regression Mean Squared Error:\", mean_squared_error(Y_train, lasso_regression.predict(X_train)))\n",
    "print(\"\\nTesting Lasso Regression Mean Squared Error:\", mean_squared_error(Y_test, lasso_regression.predict(X_test)))\n"
   ]
  },
  {
   "cell_type": "markdown",
   "metadata": {},
   "source": [
    "## Plot of Tuning Parameters versus Cross-Validation MSE for Lasso Regression"
   ]
  },
  {
   "cell_type": "markdown",
   "metadata": {},
   "source": [
    "In this section, I utilized the Lasso() function of the sklearn package. I found this particular Lasso Regression function to be optimal to create the plot of the alpha tuning parameters versus the cross-validation MSE for the Lasso Regression. \n",
    "\n",
    "Due to this, I created an alpha range of np.linspace(.0001, .001, 101). The code below basically obtains my CV values for the plot using the neg_mean_squared_error scoring type. \n",
    "\n",
    "Although I used a different function to create the model, the plot still checks out since it is fitted on the training data. Earlier, we obtained that the best alpha value was **.0004037**. On the plot, we can see at this alpha value the MSE is correctly minimized."
   ]
  },
  {
   "cell_type": "code",
   "execution_count": 25,
   "metadata": {},
   "outputs": [],
   "source": [
    "lasso = Lasso()\n",
    "grid_vals = {'alpha': np.linspace(.0001, .001, 101)}\n",
    "lasso_cv = GridSearchCV(lasso, grid_vals, scoring='neg_mean_squared_error',cv=5)\n",
    "lasso_cv.fit(X_train,Y_train);"
   ]
  },
  {
   "cell_type": "code",
   "execution_count": 26,
   "metadata": {},
   "outputs": [],
   "source": [
    "lr_alphas = lasso_cv.cv_results_['param_alpha'].data\n",
    "lr_MSE = lasso_cv.cv_results_['mean_test_score']*(-1)"
   ]
  },
  {
   "cell_type": "code",
   "execution_count": 27,
   "metadata": {},
   "outputs": [
    {
     "data": {
      "image/png": "[encoded data removed]",
      "text/plain": [
       "<Figure size 864x432 with 1 Axes>"
      ]
     },
     "metadata": {
      "needs_background": "light"
     },
     "output_type": "display_data"
    }
   ],
   "source": [
    "plt.figure(figsize=(12,6))\n",
    "plt.scatter(lr_alphas, lr_MSE)\n",
    "plt.title(\"Tuning Paramaters vs. Cross-Validation MSE\\nfor Lasso Regression\")\n",
    "plt.xlabel('Alpha Values - Tuning Parameters')\n",
    "plt.ylabel('Cross-Validation MSE Scores')\n",
    "\n",
    "plt.grid(True, which='both')\n",
    "plt.tight_layout();"
   ]
  },
  {
   "cell_type": "markdown",
   "metadata": {},
   "source": [
    "# Conclusion"
   ]
  },
  {
   "cell_type": "code",
   "execution_count": 31,
   "metadata": {},
   "outputs": [
    {
     "name": "stdout",
     "output_type": "stream",
     "text": [
      "Cross-Validation Score for OLS: 0.4020449386718717\n",
      "Cross-Validation Score for Ridge Regression: 0.3988367119666093\n",
      "Cross-Validation Score for Lasso Regression: 0.39769868979883183\n",
      "\n",
      "Best Model for Wine Quality Dataset: Lasso Regression\n"
     ]
    }
   ],
   "source": [
    "cv_score_ols = np.mean(np.negative(cross_val_score(ols, X_test, Y_test, scoring = 'neg_mean_squared_error', cv =5)))\n",
    "cv_score_rr = np.mean(np.negative(cross_val_score(ridge_regression, X_test, Y_test, scoring = 'neg_mean_squared_error', cv =5)))\n",
    "cv_score_lr = np.mean(np.negative(cross_val_score(lasso_regression, X_test, Y_test, scoring = 'neg_mean_squared_error', cv =5)))\n",
    "\n",
    "print(\"Cross-Validation Score for OLS:\", cv_score_ols)\n",
    "print(\"Cross-Validation Score for Ridge Regression:\", cv_score_rr)\n",
    "print(\"Cross-Validation Score for Lasso Regression:\", cv_score_lr)\n",
    "\n",
    "def print_min_cv_score(ols, rr, lr):\n",
    "    if (min(ols, rr, lr) == ols):\n",
    "        return \"Ordinary Least Squares\"\n",
    "    elif (min(ols, rr, lr) == rr):\n",
    "        return \"Ridge Regression\"\n",
    "    elif (min(ols, rr, lr) == lr):\n",
    "        return \"Lasso Regression\"\n",
    "\n",
    "print(\"\\nBest Model for Wine Quality Dataset:\", print_min_cv_score(cv_score_ols, cv_score_rr, cv_score_lr))\n"
   ]
  },
  {
   "cell_type": "markdown",
   "metadata": {},
   "source": [
    "**In conclusion, in the immediately above cell, we see the cross-validation scores for all three models. The model with the smallest cross-validation is the Lasso Regression. However, the difference between the Cross-Validation scores between the Ridge and Lasso Regressions is marginal. Therefore, in this particular notebook and setup, we can conclude that the Lasso Regression fits the wine quality data the best.** "
   ]
  },
  {
   "cell_type": "code",
   "execution_count": null,
   "metadata": {},
   "outputs": [],
   "source": []
  }
 ],
 "metadata": {
  "kernelspec": {
   "display_name": "Python 3",
   "language": "python",
   "name": "python3"
  },
  "language_info": {
   "codemirror_mode": {
    "name": "ipython",
    "version": 3
   },
   "file_extension": ".py",
   "mimetype": "text/x-python",
   "name": "python",
   "nbconvert_exporter": "python",
   "pygments_lexer": "ipython3",
   "version": "3.8.8"
  }
 },
 "nbformat": 4,
 "nbformat_minor": 4
}
